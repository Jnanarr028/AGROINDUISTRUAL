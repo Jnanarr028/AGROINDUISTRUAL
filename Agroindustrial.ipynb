{
  "nbformat": 4,
  "nbformat_minor": 0,
  "metadata": {
    "colab": {
      "provenance": [],
      "authorship_tag": "ABX9TyOPyfbRha/i33BYTzOdXjVe",
      "include_colab_link": true
    },
    "kernelspec": {
      "name": "python3",
      "display_name": "Python 3"
    },
    "language_info": {
      "name": "python"
    }
  },
  "cells": [
    {
      "cell_type": "markdown",
      "metadata": {
        "id": "view-in-github",
        "colab_type": "text"
      },
      "source": [
        "<a href=\"https://colab.research.google.com/github/Jnanarr028/AGROINDUISTRUAL/blob/main/Agroindustrial.ipynb\" target=\"_parent\"><img src=\"https://colab.research.google.com/assets/colab-badge.svg\" alt=\"Open In Colab\"/></a>"
      ]
    },
    {
      "cell_type": "code",
      "execution_count": null,
      "metadata": {
        "id": "hxp4WYz10WWF"
      },
      "outputs": [],
      "source": []
    },
    {
      "cell_type": "code",
      "metadata": {
        "colab": {
          "base_uri": "https://localhost:8080/"
        },
        "id": "fca70dd5",
        "outputId": "3b6d9f5d-ba21-4c52-b047-62e5508b2b3d"
      },
      "source": [
        "# Definimos dos números\n",
        "numero1 = 5\n",
        "numero2 = 10\n",
        "\n",
        "# Sumamos los dos números\n",
        "suma = numero1 + numero2\n",
        "\n",
        "# Imprimimos el resultado\n",
        "print(\"La suma es:\", suma)"
      ],
      "execution_count": 1,
      "outputs": [
        {
          "output_type": "stream",
          "name": "stdout",
          "text": [
            "La suma es: 15\n"
          ]
        }
      ]
    },
    {
      "cell_type": "markdown",
      "metadata": {
        "id": "d3b407d9"
      },
      "source": [
        "Este código de Python realiza una simple suma de dos números:\n",
        "\n",
        "1.  `numero1 = 5`: Se define una variable llamada `numero1` y se le asigna el valor `5`.\n",
        "2.  `numero2 = 10`: Se define otra variable llamada `numero2` y se le asigna el valor `10`.\n",
        "3.  `suma = numero1 + numero2`: Se suman los valores de `numero1` y `numero2`, y el resultado se guarda en la variable `suma`.\n",
        "4.  `print(\"La suma es:\", suma)`: Se imprime en la salida el texto \"La suma es:\" seguido del valor de la variable `suma`.\n",
        "\n",
        "En este caso, el resultado impreso será \"La suma es: 15\"."
      ]
    },
    {
      "cell_type": "code",
      "metadata": {
        "colab": {
          "base_uri": "https://localhost:8080/"
        },
        "id": "dd2a5177",
        "outputId": "f7abb177-c2a9-4991-cfc7-e67461ef7a27"
      },
      "source": [
        "# Definimos dos números para las operaciones\n",
        "num1 = 20\n",
        "num2 = 5\n",
        "\n",
        "# Suma\n",
        "suma = num1 + num2\n",
        "print(\"Suma:\", suma)\n",
        "\n",
        "# Resta\n",
        "resta = num1 - num2\n",
        "print(\"Resta:\", resta)\n",
        "\n",
        "# Multiplicación\n",
        "multiplicacion = num1 * num2\n",
        "print(\"Multiplicación:\", multiplicacion)\n",
        "\n",
        "# División (flotante)\n",
        "division_flotante = num1 / num2\n",
        "print(\"División (flotante):\", division_flotante)\n",
        "\n",
        "# División entera\n",
        "division_entera = num1 // num2\n",
        "print(\"División entera:\", division_entera)\n",
        "\n",
        "# Módulo (resto de la división)\n",
        "modulo = num1 % num2\n",
        "print(\"Módulo:\", modulo)\n",
        "\n",
        "# Potencia\n",
        "potencia = num1 ** num2\n",
        "print(\"Potencia:\", potencia)"
      ],
      "execution_count": 2,
      "outputs": [
        {
          "output_type": "stream",
          "name": "stdout",
          "text": [
            "Suma: 25\n",
            "Resta: 15\n",
            "Multiplicación: 100\n",
            "División (flotante): 4.0\n",
            "División entera: 4\n",
            "Módulo: 0\n",
            "Potencia: 3200000\n"
          ]
        }
      ]
    },
    {
      "cell_type": "markdown",
      "metadata": {
        "id": "197f4ac7"
      },
      "source": [
        "Este código de Python demuestra varias operaciones aritméticas básicas utilizando dos números, `num1` y `num2`, con valores iniciales de 20 y 5 respectivamente. Aquí la explicación línea a línea:\n",
        "\n",
        "1.  `# Definimos dos números para las operaciones`: Esta es una línea de comentario que indica el propósito del siguiente código.\n",
        "2.  `num1 = 20`: Se crea una variable llamada `num1` y se le asigna el valor entero `20`.\n",
        "3.  `num2 = 5`: Se crea una variable llamada `num2` y se le asigna el valor entero `5`.\n",
        "4.  `# Suma`: Comentario que indica que la siguiente línea realiza una suma.\n",
        "5.  `suma = num1 + num2`: Realiza la suma de `num1` (20) y `num2` (5), guardando el resultado (25) en la variable `suma`.\n",
        "6.  `print(\"Suma:\", suma)`: Imprime el texto \"Suma:\" seguido del valor de `suma` (25).\n",
        "7.  `# Resta`: Comentario para la operación de resta.\n",
        "8.  `resta = num1 - num2`: Realiza la resta de `num1` (20) y `num2` (5), guardando el resultado (15) en la variable `resta`.\n",
        "9.  `print(\"Resta:\", resta)`: Imprime el texto \"Resta:\" seguido del valor de `resta` (15).\n",
        "10. `# Multiplicación`: Comentario para la operación de multiplicación.\n",
        "11. `multiplicacion = num1 * num2`: Realiza la multiplicación de `num1` (20) y `num2` (5), guardando el resultado (100) en la variable `multiplicacion`.\n",
        "12. `print(\"Multiplicación:\", multiplicacion)`: Imprime el texto \"Multiplicación:\" seguido del valor de `multiplicacion` (100).\n",
        "13. `# División (flotante)`: Comentario para la división flotante.\n",
        "14. `division_flotante = num1 / num2`: Realiza la división de `num1` (20) entre `num2` (5). En Python 3, esta operación produce un resultado de tipo flotante (decimal), que es 4.0, y se guarda en `division_flotante`.\n",
        "15. `print(\"División (flotante):\", division_flotante)`: Imprime el texto \"División (flotante):\" seguido del valor de `division_flotante` (4.0).\n",
        "16. `# División entera`: Comentario para la división entera.\n",
        "17. `division_entera = num1 // num2`: Realiza la división entera de `num1` (20) entre `num2` (5). Esta operación descarta la parte decimal y devuelve solo el número entero, que es 4, y se guarda en `division_entera`.\n",
        "18. `print(\"División entera:\", division_entera)`: Imprime el texto \"División entera:\" seguido del valor de `division_entera` (4).\n",
        "19. `# Módulo (resto de la división)`: Comentario para la operación de módulo.\n",
        "20. `modulo = num1 % num2`: Realiza la operación de módulo, que obtiene el resto de la división de `num1` (20) entre `num2` (5). El resto es 0, y se guarda en `modulo`.\n",
        "21. `print(\"Módulo:\", modulo)`: Imprime el texto \"Módulo:\" seguido del valor de `modulo` (0).\n",
        "22. `# Potencia`: Comentario para la operación de potencia.\n",
        "23. `potencia = num1 ** num2`: Realiza la operación de potencia, elevando `num1` (20) a la potencia de `num2` (5). Esto es 20^5, cuyo resultado es 3,200,000, y se guarda en `potencia`.\n",
        "24. `print(\"Potencia:\", potencia)`: Imprime el texto \"Potencia:\" seguido del valor de `potencia` (3200000)."
      ]
    }
  ]
}