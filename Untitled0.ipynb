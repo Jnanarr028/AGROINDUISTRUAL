{
  "nbformat": 4,
  "nbformat_minor": 0,
  "metadata": {
    "colab": {
      "provenance": [],
      "authorship_tag": "ABX9TyMhr/HDAM43Z7t5Dgbty8i3",
      "include_colab_link": true
    },
    "kernelspec": {
      "name": "python3",
      "display_name": "Python 3"
    },
    "language_info": {
      "name": "python"
    }
  },
  "cells": [
    {
      "cell_type": "markdown",
      "metadata": {
        "id": "view-in-github",
        "colab_type": "text"
      },
      "source": [
        "<a href=\"https://colab.research.google.com/github/Jnanarr028/AGROINDUISTRUAL/blob/main/Untitled0.ipynb\" target=\"_parent\"><img src=\"https://colab.research.google.com/assets/colab-badge.svg\" alt=\"Open In Colab\"/></a>"
      ]
    },
    {
      "cell_type": "code",
      "execution_count": null,
      "metadata": {
        "id": "hxp4WYz10WWF"
      },
      "outputs": [],
      "source": []
    },
    {
      "cell_type": "code",
      "metadata": {
        "colab": {
          "base_uri": "https://localhost:8080/"
        },
        "id": "fca70dd5",
        "outputId": "3b6d9f5d-ba21-4c52-b047-62e5508b2b3d"
      },
      "source": [
        "# Definimos dos números\n",
        "numero1 = 5\n",
        "numero2 = 10\n",
        "\n",
        "# Sumamos los dos números\n",
        "suma = numero1 + numero2\n",
        "\n",
        "# Imprimimos el resultado\n",
        "print(\"La suma es:\", suma)"
      ],
      "execution_count": 1,
      "outputs": [
        {
          "output_type": "stream",
          "name": "stdout",
          "text": [
            "La suma es: 15\n"
          ]
        }
      ]
    },
    {
      "cell_type": "markdown",
      "metadata": {
        "id": "d3b407d9"
      },
      "source": [
        "Este código de Python realiza una simple suma de dos números:\n",
        "\n",
        "1.  `numero1 = 5`: Se define una variable llamada `numero1` y se le asigna el valor `5`.\n",
        "2.  `numero2 = 10`: Se define otra variable llamada `numero2` y se le asigna el valor `10`.\n",
        "3.  `suma = numero1 + numero2`: Se suman los valores de `numero1` y `numero2`, y el resultado se guarda en la variable `suma`.\n",
        "4.  `print(\"La suma es:\", suma)`: Se imprime en la salida el texto \"La suma es:\" seguido del valor de la variable `suma`.\n",
        "\n",
        "En este caso, el resultado impreso será \"La suma es: 15\"."
      ]
    }
  ]
}