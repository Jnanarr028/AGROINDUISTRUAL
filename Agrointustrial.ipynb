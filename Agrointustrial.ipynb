{
  "nbformat": 4,
  "nbformat_minor": 0,
  "metadata": {
    "colab": {
      "provenance": [],
      "authorship_tag": "ABX9TyN64FhvmrcYGB2llGMsbvsS",
      "include_colab_link": true
    },
    "kernelspec": {
      "name": "python3",
      "display_name": "Python 3"
    },
    "language_info": {
      "name": "python"
    }
  },
  "cells": [
    {
      "cell_type": "markdown",
      "metadata": {
        "id": "view-in-github",
        "colab_type": "text"
      },
      "source": [
        "<a href=\"https://colab.research.google.com/github/Jnanarr028/AGROINDUISTRUAL/blob/main/Agrointustrial.ipynb\" target=\"_parent\"><img src=\"https://colab.research.google.com/assets/colab-badge.svg\" alt=\"Open In Colab\"/></a>"
      ]
    },
    {
      "cell_type": "code",
      "execution_count": null,
      "metadata": {
        "id": "hxp4WYz10WWF"
      },
      "outputs": [],
      "source": []
    },
    {
      "cell_type": "code",
      "metadata": {
        "colab": {
          "base_uri": "https://localhost:8080/"
        },
        "id": "fca70dd5",
        "outputId": "3b6d9f5d-ba21-4c52-b047-62e5508b2b3d"
      },
      "source": [
        "# Definimos dos números\n",
        "numero1 = 5\n",
        "numero2 = 10\n",
        "\n",
        "# Sumamos los dos números\n",
        "suma = numero1 + numero2\n",
        "\n",
        "# Imprimimos el resultado\n",
        "print(\"La suma es:\", suma)"
      ],
      "execution_count": 1,
      "outputs": [
        {
          "output_type": "stream",
          "name": "stdout",
          "text": [
            "La suma es: 15\n"
          ]
        }
      ]
    }
  ]
}